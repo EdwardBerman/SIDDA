{
 "cells": [
  {
   "cell_type": "markdown",
   "metadata": {},
   "source": []
  },
  {
   "cell_type": "code",
   "execution_count": 1,
   "metadata": {},
   "outputs": [],
   "source": [
    "import ot"
   ]
  },
  {
   "cell_type": "code",
   "execution_count": 19,
   "metadata": {},
   "outputs": [
    {
     "name": "stdout",
     "output_type": "stream",
     "text": [
      "Sinkhorn Distance: tensor(8.1880)\n"
     ]
    }
   ],
   "source": [
    "import torch\n",
    "import ot\n",
    "\n",
    "def compute_pairwise_distances(x, y):\n",
    "    if not x.dim() == y.dim() == 2:\n",
    "        raise ValueError('Both inputs should be matrices.')\n",
    "    if x.size(1) != y.size(1):\n",
    "        raise ValueError('The number of features should be the same.')\n",
    "\n",
    "    norm = lambda x: torch.sum(torch.pow(x, 2), 1)\n",
    "    return torch.transpose(norm(torch.unsqueeze(x, 2) - torch.transpose(y, 0, 1)), 0, 1)\n",
    "\n",
    "def optimal_transport_distance(x, y, reg=0.1):\n",
    "    '''\n",
    "    Calculate the Sinkhorn distance between two distributions using the Sinkhorn algorithm\n",
    "    Args:\n",
    "        x: source domain embeddings\n",
    "        y: target domain embeddings\n",
    "        reg: regularization parameter for the Sinkhorn algorithm\n",
    "    Returns:\n",
    "        Sinkhorn distance\n",
    "    '''\n",
    "    x_np = x.cpu().detach().numpy()\n",
    "    y_np = y.cpu().detach().numpy()\n",
    "    \n",
    "    # Compute pairwise distance matrix\n",
    "    M = ot.dist(x_np, y_np, metric='euclidean')\n",
    "    \n",
    "    # Uniform weights for source and target distributions\n",
    "    n = x_np.shape[0]\n",
    "    m = y_np.shape[0]\n",
    "    a = ot.unif(n)\n",
    "    b = ot.unif(m)\n",
    "    \n",
    "    # Compute the Sinkhorn distance\n",
    "    sinkhorn_distance = ot.sinkhorn2(a, b, M, reg)\n",
    "    \n",
    "    return torch.tensor(sinkhorn_distance, dtype=torch.float32)\n",
    "\n",
    "def ot_distance(hs, ht, reg=0.1):\n",
    "    '''\n",
    "    Optimal Transport distance using Sinkhorn algorithm\n",
    "    Args:\n",
    "        hs: source domain embeddings\n",
    "        ht: target domain embeddings\n",
    "        reg: regularization parameter for the Sinkhorn algorithm\n",
    "    Returns:\n",
    "        Sinkhorn distance\n",
    "    '''\n",
    "    loss_value = optimal_transport_distance(hs, ht, reg)\n",
    "    return torch.clamp(loss_value, min=1e-4)\n",
    "\n",
    "# Example usage:\n",
    "hs = torch.randn(100, 50) # Example source embeddings\n",
    "ht = torch.randn(100, 50)# Example target embeddings\n",
    "distance = ot_distance(hs, ht, reg=.1)\n",
    "print('Sinkhorn Distance:', distance)\n"
   ]
  },
  {
   "cell_type": "code",
   "execution_count": null,
   "metadata": {},
   "outputs": [],
   "source": []
  }
 ],
 "metadata": {
  "kernelspec": {
   "display_name": "venv-ml",
   "language": "python",
   "name": "python3"
  },
  "language_info": {
   "codemirror_mode": {
    "name": "ipython",
    "version": 3
   },
   "file_extension": ".py",
   "mimetype": "text/x-python",
   "name": "python",
   "nbconvert_exporter": "python",
   "pygments_lexer": "ipython3",
   "version": "3.8.9"
  }
 },
 "nbformat": 4,
 "nbformat_minor": 2
}
